{
  "nbformat": 4,
  "nbformat_minor": 0,
  "metadata": {
    "colab": {
      "name": "Untitled0.ipynb",
      "provenance": [],
      "collapsed_sections": []
    },
    "kernelspec": {
      "name": "python3",
      "display_name": "Python 3"
    },
    "language_info": {
      "name": "python"
    }
  },
  "cells": [
    {
      "cell_type": "code",
      "metadata": {
        "colab": {
          "base_uri": "https://localhost:8080/"
        },
        "id": "lx8s1nxmUgq_",
        "outputId": "20e0c8de-614b-40d5-cad5-17673b570ebd"
      },
      "source": [
        "import hashlib\n",
        "a=\"Python and Cyber Security BootCamp\".encode()\n",
        "for i in a:\n",
        "  print(i)\n",
        "print(\"MD5:\",hashlib.md5(a).hexdigest())"
      ],
      "execution_count": 5,
      "outputs": [
        {
          "output_type": "stream",
          "text": [
            "80\n",
            "121\n",
            "116\n",
            "104\n",
            "111\n",
            "110\n",
            "32\n",
            "97\n",
            "110\n",
            "100\n",
            "32\n",
            "67\n",
            "121\n",
            "98\n",
            "101\n",
            "114\n",
            "32\n",
            "83\n",
            "101\n",
            "99\n",
            "117\n",
            "114\n",
            "105\n",
            "116\n",
            "121\n",
            "32\n",
            "66\n",
            "111\n",
            "111\n",
            "116\n",
            "67\n",
            "97\n",
            "109\n",
            "112\n",
            "MD5: 45125d8d8caefe69b5e577cc9f315ad0\n"
          ],
          "name": "stdout"
        }
      ]
    }
  ]
}